{
  "nbformat": 4,
  "nbformat_minor": 0,
  "metadata": {
    "colab": {
      "provenance": []
    },
    "kernelspec": {
      "name": "python3",
      "display_name": "Python 3"
    },
    "language_info": {
      "name": "python"
    }
  },
  "cells": [
    {
      "cell_type": "code",
      "execution_count": 1,
      "metadata": {
        "colab": {
          "base_uri": "https://localhost:8080/"
        },
        "id": "NpX7PNjd_Hlv",
        "outputId": "af413f12-0c86-4aee-da02-673759d53148"
      },
      "outputs": [
        {
          "output_type": "stream",
          "name": "stdout",
          "text": [
            "Top suppliers:\n",
            "    supplier_id material  quantity  price\n",
            "20            1    Steel       130   9.25\n",
            "30            1    Steel       140   9.50\n"
          ]
        }
      ],
      "source": [
        "import pandas as pd\n",
        "\n",
        "# Load the data from the provided Excel file\n",
        "file_path = '/content/Inventory.xlsx'  # Replace with actual path\n",
        "data = pd.read_excel(file_path)\n",
        "\n",
        "# Function to rank suppliers based on material type and price\n",
        "def rank_suppliers(material, max_price=None, top_n=5):\n",
        "    # Filter the dataset based on material type\n",
        "    filtered_data = data[data['material'] == material]\n",
        "\n",
        "    # If max_price is provided, filter the data to include only prices less than or equal to max_price\n",
        "    if max_price is not None:\n",
        "        filtered_data = filtered_data[filtered_data['price'] <= max_price]\n",
        "\n",
        "    # Check if there are any suppliers left after filtering\n",
        "    if filtered_data.empty:\n",
        "        print(\"No suppliers found with the specified criteria.\")\n",
        "        return pd.DataFrame()  # Return an empty DataFrame if no suppliers found\n",
        "\n",
        "    # Sort suppliers by price (lower price gets higher priority)\n",
        "    ranked_suppliers = filtered_data.sort_values(by='price')\n",
        "\n",
        "    # Select the top_n suppliers\n",
        "    return ranked_suppliers.head(top_n)\n",
        "\n",
        "# Example usage: rank suppliers for material 'Steel' and price below or equal to 10\n",
        "top_suppliers = rank_suppliers('Steel', max_price=19, top_n=2)\n",
        "print(\"Top suppliers:\")\n",
        "print(top_suppliers)"
      ]
    }
  ]
}