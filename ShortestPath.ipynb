{
  "nbformat": 4,
  "nbformat_minor": 0,
  "metadata": {
    "colab": {
      "provenance": [],
      "authorship_tag": "ABX9TyND+9NtTF8xScO/Ve7Ml9OB",
      "include_colab_link": true
    },
    "kernelspec": {
      "name": "python3",
      "display_name": "Python 3"
    },
    "language_info": {
      "name": "python"
    }
  },
  "cells": [
    {
      "cell_type": "markdown",
      "metadata": {
        "id": "view-in-github",
        "colab_type": "text"
      },
      "source": [
        "<a href=\"https://colab.research.google.com/github/ShashankS1011/AIAlchemists/blob/main/ShortestPath.ipynb\" target=\"_parent\"><img src=\"https://colab.research.google.com/assets/colab-badge.svg\" alt=\"Open In Colab\"/></a>"
      ]
    },
    {
      "cell_type": "code",
      "execution_count": null,
      "metadata": {
        "colab": {
          "base_uri": "https://localhost:8080/"
        },
        "id": "oK9oGv988fCq",
        "outputId": "ce39896d-6613-41e7-c6cd-600e29a3c8df"
      },
      "outputs": [
        {
          "output_type": "stream",
          "name": "stdout",
          "text": [
            "Requirement already satisfied: scikit-learn-intelex in /usr/local/lib/python3.10/dist-packages (2024.7.0)\n",
            "Requirement already satisfied: daal4py==2024.7.0 in /usr/local/lib/python3.10/dist-packages (from scikit-learn-intelex) (2024.7.0)\n",
            "Requirement already satisfied: scikit-learn>=0.22 in /usr/local/lib/python3.10/dist-packages (from scikit-learn-intelex) (1.5.2)\n",
            "Requirement already satisfied: daal==2024.7.0 in /usr/local/lib/python3.10/dist-packages (from daal4py==2024.7.0->scikit-learn-intelex) (2024.7.0)\n",
            "Requirement already satisfied: numpy>=1.19 in /usr/local/lib/python3.10/dist-packages (from daal4py==2024.7.0->scikit-learn-intelex) (1.26.4)\n",
            "Requirement already satisfied: tbb==2021.* in /usr/local/lib/python3.10/dist-packages (from daal==2024.7.0->daal4py==2024.7.0->scikit-learn-intelex) (2021.13.1)\n",
            "Requirement already satisfied: scipy>=1.6.0 in /usr/local/lib/python3.10/dist-packages (from scikit-learn>=0.22->scikit-learn-intelex) (1.13.1)\n",
            "Requirement already satisfied: joblib>=1.2.0 in /usr/local/lib/python3.10/dist-packages (from scikit-learn>=0.22->scikit-learn-intelex) (1.4.2)\n",
            "Requirement already satisfied: threadpoolctl>=3.1.0 in /usr/local/lib/python3.10/dist-packages (from scikit-learn>=0.22->scikit-learn-intelex) (3.5.0)\n",
            "Requirement already satisfied: numba in /usr/local/lib/python3.10/dist-packages (0.60.0)\n",
            "Requirement already satisfied: llvmlite<0.44,>=0.43.0dev0 in /usr/local/lib/python3.10/dist-packages (from numba) (0.43.0)\n",
            "Requirement already satisfied: numpy<2.1,>=1.22 in /usr/local/lib/python3.10/dist-packages (from numba) (1.26.4)\n"
          ]
        },
        {
          "output_type": "stream",
          "name": "stderr",
          "text": [
            "Intel(R) Extension for Scikit-learn* enabled (https://github.com/intel/scikit-learn-intelex)\n"
          ]
        }
      ],
      "source": [
        "!pip install scikit-learn-intelex\n",
        "!pip install numba\n",
        "from sklearnex import patch_sklearn, config_context\n",
        "patch_sklearn()"
      ]
    },
    {
      "cell_type": "markdown",
      "source": [
        "##Intel oneAPI Shortest Path Algorithm"
      ],
      "metadata": {
        "id": "D7rDF71h8rQU"
      }
    },
    {
      "cell_type": "code",
      "source": [
        "import pandas as pd\n",
        "import itertools\n",
        "import numba\n",
        "import numpy as np\n",
        "from sklearnex import patch_sklearn\n",
        "\n",
        "# Patch scikit-learn to optimize with Intel's extension\n",
        "patch_sklearn()\n",
        "\n",
        "# Load the dataset\n",
        "file_path = 'indian-cities-dataset.csv'\n",
        "data = pd.read_csv(file_path)\n",
        "\n",
        "# Create a graph as a dictionary (not using numba here)\n",
        "def create_graph(data):\n",
        "    graph = {}\n",
        "    for index, row in data.iterrows():\n",
        "        if row['Origin'] not in graph:\n",
        "            graph[row['Origin']] = []\n",
        "        graph[row['Origin']].append((row['Destination'], row['Distance']))\n",
        "\n",
        "        if row['Destination'] not in graph:\n",
        "            graph[row['Destination']] = []\n",
        "        graph[row['Destination']].append((row['Origin'], row['Distance']))\n",
        "    return graph\n",
        "\n",
        "# Function to convert the graph to a NumPy-friendly format for distance calculation\n",
        "def convert_graph_to_matrix(graph, cities):\n",
        "    n = len(cities)\n",
        "    city_index = {city: idx for idx, city in enumerate(cities)}  # Map city names to indices\n",
        "    distance_matrix = np.full((n, n), np.inf)  # Initialize with infinity for non-edges\n",
        "\n",
        "    for city, neighbors in graph.items():\n",
        "        if city in cities:  # Ensure city is in the list of cities we care about\n",
        "            for neighbor, distance in neighbors:\n",
        "                if neighbor in cities:  # Only consider neighbors that are in the list\n",
        "                    i, j = city_index[city], city_index[neighbor]\n",
        "                    distance_matrix[i][j] = distance\n",
        "\n",
        "    return distance_matrix, city_index\n",
        "\n",
        "# Optimized function to get the distance of a path using numba\n",
        "@numba.njit\n",
        "def get_path_distance(distance_matrix, path_indices):\n",
        "    total_distance = 0\n",
        "    for i in range(len(path_indices) - 1):\n",
        "        distance = distance_matrix[path_indices[i], path_indices[i + 1]]\n",
        "        if distance == np.inf:\n",
        "            return np.inf  # Return inf if the path is not valid\n",
        "        total_distance += distance\n",
        "    return total_distance\n",
        "\n",
        "# Finding all possible paths and the optimal one\n",
        "def find_optimal_path(start_city, cities_to_cover):\n",
        "    graph = create_graph(data)\n",
        "    all_cities = [start_city] + cities_to_cover\n",
        "\n",
        "    # Convert graph to distance matrix\n",
        "    distance_matrix, city_index = convert_graph_to_matrix(graph, all_cities)\n",
        "\n",
        "    # Generate all permutations of the cities to cover\n",
        "    all_possible_paths = []\n",
        "    for perm in itertools.permutations(cities_to_cover):\n",
        "        path = [start_city] + list(perm)\n",
        "        all_possible_paths.append(path)\n",
        "\n",
        "    # Calculate distances for each path\n",
        "    all_paths_distances = np.empty(len(all_possible_paths))\n",
        "\n",
        "    for idx, path in enumerate(all_possible_paths):\n",
        "        # Convert path to indices for distance matrix\n",
        "        path_indices = np.array([city_index[city] for city in path])\n",
        "        all_paths_distances[idx] = get_path_distance(distance_matrix, path_indices)\n",
        "\n",
        "    # Find the optimal path if there are valid paths\n",
        "    if np.isfinite(all_paths_distances).any():  # If there's at least one valid path\n",
        "        optimal_idx = np.argmin(all_paths_distances)\n",
        "        optimal_path = all_possible_paths[optimal_idx]\n",
        "        optimal_distance = all_paths_distances[optimal_idx]\n",
        "    else:\n",
        "        optimal_path = None\n",
        "        optimal_distance = np.inf\n",
        "\n",
        "    return optimal_path, optimal_distance, all_possible_paths, all_paths_distances\n",
        "\n",
        "# Example usage\n",
        "start_city = \"Agra\"\n",
        "cities_to_cover = [\"Delhi\", \"Lucknow\", \"Kanpur\"]\n",
        "print(\"Origin:\", start_city)\n",
        "print(\"Cities to cover:\", cities_to_cover)\n",
        "optimal_path, optimal_distance, all_possible_paths, path_distances = find_optimal_path(start_city, cities_to_cover)\n",
        "print(\"Optimal Path: \", optimal_path)\n",
        "print(\"Optimal Distance: \", optimal_distance)\n"
      ],
      "metadata": {
        "colab": {
          "base_uri": "https://localhost:8080/"
        },
        "id": "wV18iSJ88n8q",
        "outputId": "653eaaac-bbd3-4d60-bc9d-3dc9b6db6cf4"
      },
      "execution_count": 8,
      "outputs": [
        {
          "output_type": "stream",
          "name": "stderr",
          "text": [
            "Intel(R) Extension for Scikit-learn* enabled (https://github.com/intel/scikit-learn-intelex)\n"
          ]
        },
        {
          "output_type": "stream",
          "name": "stdout",
          "text": [
            "Origin: Agra\n",
            "Cities to cover: ['Delhi', 'Lucknow', 'Kanpur']\n",
            "Optimal Path:  ['Agra', 'Delhi', 'Lucknow', 'Kanpur']\n",
            "Optimal Distance:  885.0\n"
          ]
        }
      ]
    },
    {
      "cell_type": "code",
      "source": [],
      "metadata": {
        "id": "aXdQkwd--BTN"
      },
      "execution_count": null,
      "outputs": []
    }
  ]
}